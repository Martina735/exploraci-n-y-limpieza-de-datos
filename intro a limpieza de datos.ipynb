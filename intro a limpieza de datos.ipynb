{
 "cells": [
  {
   "cell_type": "code",
   "execution_count": 1,
   "id": "faed2bad",
   "metadata": {},
   "outputs": [],
   "source": [
    "import numpy as np\n"
   ]
  },
  {
   "cell_type": "code",
   "execution_count": 2,
   "id": "de37a34b",
   "metadata": {},
   "outputs": [
    {
     "name": "stdout",
     "output_type": "stream",
     "text": [
      "[1 2 3 5 6 7]\n"
     ]
    }
   ],
   "source": [
    "python_list=[1,2,3,5,6,7]\n",
    "array=np.array(python_list)\n",
    "print(array)"
   ]
  },
  {
   "cell_type": "code",
   "execution_count": 3,
   "id": "6af59e49",
   "metadata": {},
   "outputs": [
    {
     "data": {
      "text/plain": [
       "array([0, 0, 0, 0, 0, 0, 0, 0, 0, 0])"
      ]
     },
     "execution_count": 3,
     "metadata": {},
     "output_type": "execute_result"
    }
   ],
   "source": [
    "np.zeros(10,dtype=int)"
   ]
  },
  {
   "cell_type": "code",
   "execution_count": 4,
   "id": "5ff85bfe",
   "metadata": {},
   "outputs": [
    {
     "data": {
      "text/plain": [
       "array([[0, 0],\n",
       "       [0, 0],\n",
       "       [0, 0],\n",
       "       [0, 0],\n",
       "       [0, 0],\n",
       "       [0, 0],\n",
       "       [0, 0],\n",
       "       [0, 0],\n",
       "       [0, 0],\n",
       "       [0, 0]])"
      ]
     },
     "execution_count": 4,
     "metadata": {},
     "output_type": "execute_result"
    }
   ],
   "source": [
    "np.zeros((10,2), dtype=int)"
   ]
  },
  {
   "cell_type": "code",
   "execution_count": 5,
   "id": "7fd77647",
   "metadata": {},
   "outputs": [],
   "source": [
    "random_generator=np.random.default_rng()"
   ]
  },
  {
   "cell_type": "code",
   "execution_count": 6,
   "id": "7301f771",
   "metadata": {},
   "outputs": [
    {
     "data": {
      "text/plain": [
       "-1.306234341126566"
      ]
     },
     "execution_count": 6,
     "metadata": {},
     "output_type": "execute_result"
    }
   ],
   "source": [
    "random_generator.normal(loc=0, scale=1)"
   ]
  },
  {
   "cell_type": "code",
   "execution_count": 7,
   "id": "cbdc9e07",
   "metadata": {},
   "outputs": [
    {
     "data": {
      "text/plain": [
       "array([0, 1, 2, 3, 4, 5, 6, 7, 8, 9])"
      ]
     },
     "execution_count": 7,
     "metadata": {},
     "output_type": "execute_result"
    }
   ],
   "source": [
    "one_d_array=np.arange(10)\n",
    "one_d_array"
   ]
  },
  {
   "cell_type": "code",
   "execution_count": 10,
   "id": "9dcf5a79",
   "metadata": {},
   "outputs": [
    {
     "data": {
      "text/plain": [
       "array([0, 2, 4, 6, 8])"
      ]
     },
     "execution_count": 10,
     "metadata": {},
     "output_type": "execute_result"
    }
   ],
   "source": [
    "one_d_array[::2]"
   ]
  },
  {
   "cell_type": "code",
   "execution_count": 11,
   "id": "d82906ba",
   "metadata": {},
   "outputs": [
    {
     "data": {
      "text/plain": [
       "array([1, 2, 3])"
      ]
     },
     "execution_count": 11,
     "metadata": {},
     "output_type": "execute_result"
    }
   ],
   "source": [
    "one_d_array[1:4]"
   ]
  },
  {
   "cell_type": "code",
   "execution_count": 12,
   "id": "3f1fb4df",
   "metadata": {},
   "outputs": [
    {
     "data": {
      "text/plain": [
       "array([7, 6, 5, 4, 3, 2, 1, 0])"
      ]
     },
     "execution_count": 12,
     "metadata": {},
     "output_type": "execute_result"
    }
   ],
   "source": [
    "one_d_array[7::-1]"
   ]
  },
  {
   "cell_type": "code",
   "execution_count": 9,
   "id": "b846b194",
   "metadata": {},
   "outputs": [
    {
     "data": {
      "text/plain": [
       "array([1, 3, 5, 7, 9])"
      ]
     },
     "execution_count": 9,
     "metadata": {},
     "output_type": "execute_result"
    }
   ],
   "source": [
    "one_d_array[1::2]"
   ]
  },
  {
   "cell_type": "code",
   "execution_count": null,
   "id": "6c5bdd27",
   "metadata": {},
   "outputs": [],
   "source": [
    "random_generator_seed=np.random.default_rng(23444)\n",
    " "
   ]
  },
  {
   "cell_type": "code",
   "execution_count": 14,
   "id": "8c6f870e",
   "metadata": {},
   "outputs": [
    {
     "data": {
      "text/plain": [
       "array([[3.19001165, 6.23494067, 7.15260982, 7.25559343],\n",
       "       [0.86071593, 0.94199564, 6.92112831, 1.78065388],\n",
       "       [4.14657673, 3.29445207, 2.85390505, 4.30645489]])"
      ]
     },
     "execution_count": 14,
     "metadata": {},
     "output_type": "execute_result"
    }
   ],
   "source": [
    "low=0 \n",
    "high=10\n",
    "size=(3,4)\n",
    "two_d_array=random_generator_seed.uniform(low,high,size)\n",
    "two_d_array"
   ]
  },
  {
   "cell_type": "code",
   "execution_count": 15,
   "id": "403c06a9",
   "metadata": {},
   "outputs": [
    {
     "data": {
      "text/plain": [
       "array([[False,  True,  True,  True],\n",
       "       [False, False,  True, False],\n",
       "       [False, False, False, False]])"
      ]
     },
     "execution_count": 15,
     "metadata": {},
     "output_type": "execute_result"
    }
   ],
   "source": [
    "mask_great_5 = two_d_array > 5\n",
    "mask_great_5"
   ]
  },
  {
   "cell_type": "code",
   "execution_count": 16,
   "id": "af6aebe2",
   "metadata": {},
   "outputs": [
    {
     "data": {
      "text/plain": [
       "array([6.23494067, 7.15260982, 7.25559343, 6.92112831])"
      ]
     },
     "execution_count": 16,
     "metadata": {},
     "output_type": "execute_result"
    }
   ],
   "source": [
    "two_d_array[mask_great_5]"
   ]
  },
  {
   "cell_type": "code",
   "execution_count": 17,
   "id": "2b46527f",
   "metadata": {},
   "outputs": [
    {
     "data": {
      "text/plain": [
       "array([5, 7, 8])"
      ]
     },
     "execution_count": 17,
     "metadata": {},
     "output_type": "execute_result"
    }
   ],
   "source": [
    "a=np.array([0,2,5])\n",
    "b=np.array([5,5,3])\n",
    "a+b"
   ]
  },
  {
   "cell_type": "code",
   "execution_count": 18,
   "id": "7387f5a8",
   "metadata": {},
   "outputs": [
    {
     "data": {
      "text/plain": [
       "array([ 5,  7, 10])"
      ]
     },
     "execution_count": 18,
     "metadata": {},
     "output_type": "execute_result"
    }
   ],
   "source": [
    "a=np.array([0,2,5])\n",
    "b=5\n",
    "a+b"
   ]
  },
  {
   "cell_type": "code",
   "execution_count": 19,
   "id": "b437315e",
   "metadata": {},
   "outputs": [],
   "source": [
    "import pandas as pd"
   ]
  },
  {
   "cell_type": "code",
   "execution_count": 20,
   "id": "066c9818",
   "metadata": {},
   "outputs": [
    {
     "data": {
      "text/plain": [
       "0    0.25\n",
       "1    0.50\n",
       "2    0.75\n",
       "3    1.00\n",
       "dtype: float64"
      ]
     },
     "execution_count": 20,
     "metadata": {},
     "output_type": "execute_result"
    }
   ],
   "source": [
    "lista = [0.25, 0.5, 0.75, 1]\n",
    "data = pd.Series(lista)\n",
    "data"
   ]
  },
  {
   "cell_type": "code",
   "execution_count": 21,
   "id": "04a93302",
   "metadata": {},
   "outputs": [
    {
     "data": {
      "text/plain": [
       "RangeIndex(start=0, stop=4, step=1)"
      ]
     },
     "execution_count": 21,
     "metadata": {},
     "output_type": "execute_result"
    }
   ],
   "source": [
    "data.index"
   ]
  },
  {
   "cell_type": "code",
   "execution_count": 22,
   "id": "35427e00",
   "metadata": {},
   "outputs": [
    {
     "data": {
      "text/plain": [
       "california        485629\n",
       "texas           87349129\n",
       "new york      7324024423\n",
       "dtype: int64"
      ]
     },
     "execution_count": 22,
     "metadata": {},
     "output_type": "execute_result"
    }
   ],
   "source": [
    "population_dict = {\"california\":485629, \"texas\": 87349129, \"new york\":7324024423}\n",
    "population = pd.Series(population_dict)\n",
    "population"
   ]
  },
  {
   "cell_type": "code",
   "execution_count": 23,
   "id": "5fd4210a",
   "metadata": {},
   "outputs": [
    {
     "data": {
      "text/plain": [
       "california      485629\n",
       "texas         87349129\n",
       "dtype: int64"
      ]
     },
     "execution_count": 23,
     "metadata": {},
     "output_type": "execute_result"
    }
   ],
   "source": [
    "population[\"california\":\"texas\"]"
   ]
  },
  {
   "cell_type": "code",
   "execution_count": 24,
   "id": "d1b852ea",
   "metadata": {},
   "outputs": [
    {
     "data": {
      "text/plain": [
       "100    5\n",
       "200    5\n",
       "300    5\n",
       "dtype: int64"
      ]
     },
     "execution_count": 24,
     "metadata": {},
     "output_type": "execute_result"
    }
   ],
   "source": [
    "pd.Series(5, index=[100,200,300])"
   ]
  },
  {
   "cell_type": "code",
   "execution_count": 27,
   "id": "6dcf714e",
   "metadata": {},
   "outputs": [
    {
     "data": {
      "text/plain": [
       "2    a\n",
       "2    a\n",
       "1    b\n",
       "3    c\n",
       "3    c\n",
       "3    c\n",
       "dtype: object"
      ]
     },
     "execution_count": 27,
     "metadata": {},
     "output_type": "execute_result"
    }
   ],
   "source": [
    "pd.Series({2:\"a\", 1:\"b\", 3:\"c\"}, index=[2,2,1,3,3,3])"
   ]
  },
  {
   "cell_type": "code",
   "execution_count": 28,
   "id": "da97a369",
   "metadata": {},
   "outputs": [
    {
     "data": {
      "text/html": [
       "<div>\n",
       "<style scoped>\n",
       "    .dataframe tbody tr th:only-of-type {\n",
       "        vertical-align: middle;\n",
       "    }\n",
       "\n",
       "    .dataframe tbody tr th {\n",
       "        vertical-align: top;\n",
       "    }\n",
       "\n",
       "    .dataframe thead th {\n",
       "        text-align: right;\n",
       "    }\n",
       "</style>\n",
       "<table border=\"1\" class=\"dataframe\">\n",
       "  <thead>\n",
       "    <tr style=\"text-align: right;\">\n",
       "      <th></th>\n",
       "      <th>population</th>\n",
       "      <th>area</th>\n",
       "    </tr>\n",
       "  </thead>\n",
       "  <tbody>\n",
       "    <tr>\n",
       "      <th>argentina</th>\n",
       "      <td>NaN</td>\n",
       "      <td>986798766789</td>\n",
       "    </tr>\n",
       "    <tr>\n",
       "      <th>california</th>\n",
       "      <td>4.567891e+08</td>\n",
       "      <td>234567890</td>\n",
       "    </tr>\n",
       "    <tr>\n",
       "      <th>texas</th>\n",
       "      <td>9.766787e+09</td>\n",
       "      <td>456789876</td>\n",
       "    </tr>\n",
       "  </tbody>\n",
       "</table>\n",
       "</div>"
      ],
      "text/plain": [
       "              population          area\n",
       "argentina            NaN  986798766789\n",
       "california  4.567891e+08     234567890\n",
       "texas       9.766787e+09     456789876"
      ]
     },
     "execution_count": 28,
     "metadata": {},
     "output_type": "execute_result"
    }
   ],
   "source": [
    "area_dict = {\"california\":234567890, \"texas\":456789876, \"argentina\":986798766789}\n",
    "states_pop = {\"california\":456789087, \"texas\":9766787445}\n",
    "\n",
    "area=pd.Series(area_dict)\n",
    "pop=pd.Series(states_pop)\n",
    "\n",
    "state=pd.DataFrame({\"population\":pop, \"area\":area})\n",
    "state"
   ]
  },
  {
   "cell_type": "code",
   "execution_count": 29,
   "id": "03081fb7",
   "metadata": {},
   "outputs": [
    {
     "data": {
      "text/html": [
       "<div>\n",
       "<style scoped>\n",
       "    .dataframe tbody tr th:only-of-type {\n",
       "        vertical-align: middle;\n",
       "    }\n",
       "\n",
       "    .dataframe tbody tr th {\n",
       "        vertical-align: top;\n",
       "    }\n",
       "\n",
       "    .dataframe thead th {\n",
       "        text-align: right;\n",
       "    }\n",
       "</style>\n",
       "<table border=\"1\" class=\"dataframe\">\n",
       "  <thead>\n",
       "    <tr style=\"text-align: right;\">\n",
       "      <th></th>\n",
       "      <th>ventas</th>\n",
       "    </tr>\n",
       "    <tr>\n",
       "      <th>cliente</th>\n",
       "      <th></th>\n",
       "    </tr>\n",
       "  </thead>\n",
       "  <tbody>\n",
       "    <tr>\n",
       "      <th>c</th>\n",
       "      <td>700</td>\n",
       "    </tr>\n",
       "    <tr>\n",
       "      <th>d</th>\n",
       "      <td>300</td>\n",
       "    </tr>\n",
       "    <tr>\n",
       "      <th>e</th>\n",
       "      <td>300</td>\n",
       "    </tr>\n",
       "    <tr>\n",
       "      <th>f</th>\n",
       "      <td>900</td>\n",
       "    </tr>\n",
       "  </tbody>\n",
       "</table>\n",
       "</div>"
      ],
      "text/plain": [
       "         ventas\n",
       "cliente        \n",
       "c           700\n",
       "d           300\n",
       "e           300\n",
       "f           900"
      ]
     },
     "execution_count": 29,
     "metadata": {},
     "output_type": "execute_result"
    }
   ],
   "source": [
    "data1 = {\"cliente\" : [\"a\", \"b\", \"c\", \"d\"], \n",
    "         \"ventas\": [100, 200, 300, 400]}\n",
    "data2 = {\"cliente\" : [\"c\", \"d\", \"e\", \"f\"], \n",
    "         \"ventas\": [700, 300, 300, 900]}\n",
    "\n",
    "df1=pd.DataFrame(data1).set_index(\"cliente\")\n",
    "df2=pd.DataFrame(data2).set_index(\"cliente\")\n",
    "df2"
   ]
  },
  {
   "cell_type": "code",
   "execution_count": 30,
   "id": "3afa240c",
   "metadata": {},
   "outputs": [
    {
     "name": "stdout",
     "output_type": "stream",
     "text": [
      "Index(['a', 'b', 'c', 'd'], dtype='object', name='cliente')\n",
      "Index(['c', 'd', 'e', 'f'], dtype='object', name='cliente')\n"
     ]
    }
   ],
   "source": [
    "unique_index1=df1.index.unique()\n",
    "unique_index2=df2.index.unique()\n",
    "print(unique_index1)\n",
    "print(unique_index2)"
   ]
  },
  {
   "cell_type": "code",
   "execution_count": 32,
   "id": "60812e4b",
   "metadata": {},
   "outputs": [
    {
     "data": {
      "text/plain": [
       "Index(['c', 'd'], dtype='object', name='cliente')"
      ]
     },
     "execution_count": 32,
     "metadata": {},
     "output_type": "execute_result"
    }
   ],
   "source": [
    "\n",
    "intersection=unique_index1.intersection(unique_index2)\n",
    "intersection"
   ]
  },
  {
   "cell_type": "code",
   "execution_count": 34,
   "id": "c7fa4c2a",
   "metadata": {},
   "outputs": [
    {
     "data": {
      "text/plain": [
       "Index(['a', 'b'], dtype='object', name='cliente')"
      ]
     },
     "execution_count": 34,
     "metadata": {},
     "output_type": "execute_result"
    }
   ],
   "source": [
    "difference=unique_index1.difference(unique_index2)\n",
    "difference"
   ]
  },
  {
   "cell_type": "code",
   "execution_count": 35,
   "id": "6553aa99",
   "metadata": {},
   "outputs": [
    {
     "data": {
      "text/plain": [
       "Index(['a', 'b', 'c', 'd', 'e', 'f'], dtype='object', name='cliente')"
      ]
     },
     "execution_count": 35,
     "metadata": {},
     "output_type": "execute_result"
    }
   ],
   "source": [
    "union=unique_index1.union(unique_index2)\n",
    "union"
   ]
  }
 ],
 "metadata": {
  "kernelspec": {
   "display_name": "Python 3",
   "language": "python",
   "name": "python3"
  },
  "language_info": {
   "codemirror_mode": {
    "name": "ipython",
    "version": 3
   },
   "file_extension": ".py",
   "mimetype": "text/x-python",
   "name": "python",
   "nbconvert_exporter": "python",
   "pygments_lexer": "ipython3",
   "version": "3.13.3"
  }
 },
 "nbformat": 4,
 "nbformat_minor": 5
}
