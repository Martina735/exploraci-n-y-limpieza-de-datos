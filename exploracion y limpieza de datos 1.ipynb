{
 "cells": [
  {
   "cell_type": "code",
   "execution_count": null,
   "id": "ddc639a2",
   "metadata": {},
   "outputs": [],
   "source": [
    "import pandas as pd\n",
    "import seaborn as sns\n",
    "import matplotlib as plt\n"
   ]
  },
  {
   "cell_type": "code",
   "execution_count": null,
   "id": "7c1d61fc",
   "metadata": {},
   "outputs": [],
   "source": [
    "data_location = \"../melb_data (2).csv\"\n",
    "\n",
    "data = pd.read_csv(data_location)\n",
    "\n",
    "data"
   ]
  },
  {
   "cell_type": "code",
   "execution_count": null,
   "id": "c0ef0fe8",
   "metadata": {},
   "outputs": [],
   "source": [
    "print(\"Descripcion estadistica:\")\n",
    "print(data.describe())"
   ]
  },
  {
   "cell_type": "code",
   "execution_count": null,
   "id": "c886a819",
   "metadata": {},
   "outputs": [],
   "source": [
    "print(\"Informacion del dataset:\")\n",
    "print(data.info())"
   ]
  },
  {
   "cell_type": "code",
   "execution_count": null,
   "id": "19561e84",
   "metadata": {},
   "outputs": [],
   "source": [
    "print(\"Conteo de valores unicos:\")\n",
    "print(data.Rooms.value_counts())"
   ]
  },
  {
   "cell_type": "code",
   "execution_count": null,
   "id": "acf9448c",
   "metadata": {},
   "outputs": [],
   "source": [
    "print(data.isnull().sum())"
   ]
  },
  {
   "cell_type": "code",
   "execution_count": null,
   "id": "93f1894c",
   "metadata": {},
   "outputs": [],
   "source": [
    "selected_columns = [\"Rooms\", \"Price\", \"Bathroom\", \"Bedroom2\", \"Landsize\"]\n",
    "data2 = data[selected_columns]\n",
    "data2"
   ]
  },
  {
   "cell_type": "code",
   "execution_count": null,
   "id": "6b9be8db",
   "metadata": {},
   "outputs": [],
   "source": [
    "correlation_matrix = data2.corr()\n",
    "print(correlation_matrix)"
   ]
  },
  {
   "cell_type": "code",
   "execution_count": null,
   "id": "ec7f4717",
   "metadata": {},
   "outputs": [],
   "source": [
    "data.head(3)"
   ]
  },
  {
   "cell_type": "code",
   "execution_count": null,
   "id": "3d63a880",
   "metadata": {},
   "outputs": [],
   "source": [
    "data.tail(3)"
   ]
  },
  {
   "cell_type": "code",
   "execution_count": null,
   "id": "9a4c19e0",
   "metadata": {},
   "outputs": [],
   "source": [
    "is_null_result = data.isnull()\n",
    "print(is_null_result.head(3))"
   ]
  },
  {
   "cell_type": "code",
   "execution_count": null,
   "id": "ec3d4d1d",
   "metadata": {},
   "outputs": [],
   "source": [
    "is_notnull_result = data.notnull()\n",
    "print(is_notnull_result.head(3))"
   ]
  },
  {
   "cell_type": "code",
   "execution_count": null,
   "id": "47ed42b6",
   "metadata": {},
   "outputs": [],
   "source": [
    "cant_nulls = is_null_result.sum()\n",
    "print(cant_nulls)"
   ]
  },
  {
   "cell_type": "code",
   "execution_count": null,
   "id": "a39cf955",
   "metadata": {},
   "outputs": [],
   "source": [
    "data_columnas_completas = data.dropna(axis=1)\n",
    "print(data.shape)\n",
    "print(data_columnas_completas.shape)"
   ]
  },
  {
   "cell_type": "code",
   "execution_count": null,
   "id": "b5a714c4",
   "metadata": {},
   "outputs": [],
   "source": [
    "data_filas_completas = data.dropna(axis=0)\n",
    "print(data.shape)\n",
    "print(data_filas_completas.shape)"
   ]
  },
  {
   "cell_type": "code",
   "execution_count": null,
   "id": "82f52271",
   "metadata": {},
   "outputs": [],
   "source": [
    "pd.value_counts(data.Car)"
   ]
  },
  {
   "cell_type": "code",
   "execution_count": null,
   "id": "e0b6cbc1",
   "metadata": {},
   "outputs": [],
   "source": [
    "data_car_2_mask = data.Car == 2\n",
    "data_car_2_fill = data.Car.fillna(2)\n",
    "data_car_null_mask = data.Car.isnull()\n",
    "data_car_null_count = data_car_null_mask.sum()\n",
    "print(data_car_null_count)"
   ]
  },
  {
   "cell_type": "code",
   "execution_count": null,
   "id": "7b3c5652",
   "metadata": {},
   "outputs": [],
   "source": [
    "data_car_2_fill = data.Car.fillna(2)"
   ]
  },
  {
   "cell_type": "code",
   "execution_count": null,
   "id": "b161f2f8",
   "metadata": {},
   "outputs": [],
   "source": [
    "data[\"Car_fill\"] = data_car_2_fill"
   ]
  },
  {
   "cell_type": "code",
   "execution_count": null,
   "id": "2173c60d",
   "metadata": {},
   "outputs": [],
   "source": [
    "data_car_2_mask = data.Car == 2\n",
    "data_car_2_count= data_car_2_mask.sum()\n",
    "print(data_car_2_count)\n",
    "data_car_2_fill = data.Car.fillna(2)\n",
    "data_car_null_mask = data.Car_fill.isnull()\n",
    "data_car_null_count = data_car_null_mask.sum()\n",
    "print(data_car_null_count)"
   ]
  },
  {
   "cell_type": "code",
   "execution_count": null,
   "id": "0d191302",
   "metadata": {},
   "outputs": [],
   "source": []
  },
  {
   "cell_type": "code",
   "execution_count": 39,
   "id": "cf1b5c80",
   "metadata": {},
   "outputs": [
    {
     "data": {
      "text/plain": [
       "0     7326.732673\n",
       "1     6634.615385\n",
       "2    10932.835821\n",
       "3     9042.553191\n",
       "4    13333.333333\n",
       "dtype: float64"
      ]
     },
     "execution_count": 39,
     "metadata": {},
     "output_type": "execute_result"
    }
   ],
   "source": [
    "precio_m2=data.apply(lambda x: 0 if x[\"Landsize\"]==0 else x[\"Price\"]/x[\"Landsize\"], axis=1)\n",
    "precio_m2.head(5)"
   ]
  },
  {
   "cell_type": "code",
   "execution_count": 41,
   "id": "6c1fbe20",
   "metadata": {},
   "outputs": [
    {
     "data": {
      "text/html": [
       "<div>\n",
       "<style scoped>\n",
       "    .dataframe tbody tr th:only-of-type {\n",
       "        vertical-align: middle;\n",
       "    }\n",
       "\n",
       "    .dataframe tbody tr th {\n",
       "        vertical-align: top;\n",
       "    }\n",
       "\n",
       "    .dataframe thead th {\n",
       "        text-align: right;\n",
       "    }\n",
       "</style>\n",
       "<table border=\"1\" class=\"dataframe\">\n",
       "  <thead>\n",
       "    <tr style=\"text-align: right;\">\n",
       "      <th></th>\n",
       "      <th>A</th>\n",
       "      <th>B</th>\n",
       "      <th>C</th>\n",
       "    </tr>\n",
       "  </thead>\n",
       "  <tbody>\n",
       "    <tr>\n",
       "      <th>0</th>\n",
       "      <td>0</td>\n",
       "      <td>5</td>\n",
       "      <td>a</td>\n",
       "    </tr>\n",
       "    <tr>\n",
       "      <th>1</th>\n",
       "      <td>1</td>\n",
       "      <td>6</td>\n",
       "      <td>b</td>\n",
       "    </tr>\n",
       "    <tr>\n",
       "      <th>2</th>\n",
       "      <td>2</td>\n",
       "      <td>7</td>\n",
       "      <td>c</td>\n",
       "    </tr>\n",
       "    <tr>\n",
       "      <th>3</th>\n",
       "      <td>3</td>\n",
       "      <td>8</td>\n",
       "      <td>d</td>\n",
       "    </tr>\n",
       "    <tr>\n",
       "      <th>4</th>\n",
       "      <td>4</td>\n",
       "      <td>9</td>\n",
       "      <td>e</td>\n",
       "    </tr>\n",
       "  </tbody>\n",
       "</table>\n",
       "</div>"
      ],
      "text/plain": [
       "   A  B  C\n",
       "0  0  5  a\n",
       "1  1  6  b\n",
       "2  2  7  c\n",
       "3  3  8  d\n",
       "4  4  9  e"
      ]
     },
     "execution_count": 41,
     "metadata": {},
     "output_type": "execute_result"
    }
   ],
   "source": [
    "df = pd.DataFrame({\"A\":[0,1,2,3,4],\n",
    "                   \"B\":[5,6,7,8,9],\n",
    "                   \"C\":[\"a\",\"b\", \"c\", \"d\", \"e\"]})\n",
    "df"
   ]
  },
  {
   "cell_type": "code",
   "execution_count": 42,
   "id": "350bc072",
   "metadata": {},
   "outputs": [
    {
     "data": {
      "text/html": [
       "<div>\n",
       "<style scoped>\n",
       "    .dataframe tbody tr th:only-of-type {\n",
       "        vertical-align: middle;\n",
       "    }\n",
       "\n",
       "    .dataframe tbody tr th {\n",
       "        vertical-align: top;\n",
       "    }\n",
       "\n",
       "    .dataframe thead th {\n",
       "        text-align: right;\n",
       "    }\n",
       "</style>\n",
       "<table border=\"1\" class=\"dataframe\">\n",
       "  <thead>\n",
       "    <tr style=\"text-align: right;\">\n",
       "      <th></th>\n",
       "      <th>A</th>\n",
       "      <th>B</th>\n",
       "      <th>C</th>\n",
       "    </tr>\n",
       "  </thead>\n",
       "  <tbody>\n",
       "    <tr>\n",
       "      <th>0</th>\n",
       "      <td>5</td>\n",
       "      <td>5</td>\n",
       "      <td>a</td>\n",
       "    </tr>\n",
       "    <tr>\n",
       "      <th>1</th>\n",
       "      <td>1</td>\n",
       "      <td>6</td>\n",
       "      <td>b</td>\n",
       "    </tr>\n",
       "    <tr>\n",
       "      <th>2</th>\n",
       "      <td>2</td>\n",
       "      <td>7</td>\n",
       "      <td>c</td>\n",
       "    </tr>\n",
       "    <tr>\n",
       "      <th>3</th>\n",
       "      <td>3</td>\n",
       "      <td>8</td>\n",
       "      <td>d</td>\n",
       "    </tr>\n",
       "    <tr>\n",
       "      <th>4</th>\n",
       "      <td>4</td>\n",
       "      <td>9</td>\n",
       "      <td>e</td>\n",
       "    </tr>\n",
       "  </tbody>\n",
       "</table>\n",
       "</div>"
      ],
      "text/plain": [
       "   A  B  C\n",
       "0  5  5  a\n",
       "1  1  6  b\n",
       "2  2  7  c\n",
       "3  3  8  d\n",
       "4  4  9  e"
      ]
     },
     "execution_count": 42,
     "metadata": {},
     "output_type": "execute_result"
    }
   ],
   "source": [
    "df.replace(0,5)"
   ]
  },
  {
   "cell_type": "code",
   "execution_count": 43,
   "id": "6f1da05e",
   "metadata": {},
   "outputs": [
    {
     "data": {
      "text/html": [
       "<div>\n",
       "<style scoped>\n",
       "    .dataframe tbody tr th:only-of-type {\n",
       "        vertical-align: middle;\n",
       "    }\n",
       "\n",
       "    .dataframe tbody tr th {\n",
       "        vertical-align: top;\n",
       "    }\n",
       "\n",
       "    .dataframe thead th {\n",
       "        text-align: right;\n",
       "    }\n",
       "</style>\n",
       "<table border=\"1\" class=\"dataframe\">\n",
       "  <thead>\n",
       "    <tr style=\"text-align: right;\">\n",
       "      <th></th>\n",
       "      <th>A</th>\n",
       "      <th>B</th>\n",
       "      <th>C</th>\n",
       "    </tr>\n",
       "  </thead>\n",
       "  <tbody>\n",
       "    <tr>\n",
       "      <th>0</th>\n",
       "      <td>10000</td>\n",
       "      <td>10000</td>\n",
       "      <td>a</td>\n",
       "    </tr>\n",
       "    <tr>\n",
       "      <th>1</th>\n",
       "      <td>1</td>\n",
       "      <td>6</td>\n",
       "      <td>b</td>\n",
       "    </tr>\n",
       "    <tr>\n",
       "      <th>2</th>\n",
       "      <td>2</td>\n",
       "      <td>7</td>\n",
       "      <td>c</td>\n",
       "    </tr>\n",
       "    <tr>\n",
       "      <th>3</th>\n",
       "      <td>3</td>\n",
       "      <td>8</td>\n",
       "      <td>d</td>\n",
       "    </tr>\n",
       "    <tr>\n",
       "      <th>4</th>\n",
       "      <td>4</td>\n",
       "      <td>9</td>\n",
       "      <td>e</td>\n",
       "    </tr>\n",
       "  </tbody>\n",
       "</table>\n",
       "</div>"
      ],
      "text/plain": [
       "       A      B  C\n",
       "0  10000  10000  a\n",
       "1      1      6  b\n",
       "2      2      7  c\n",
       "3      3      8  d\n",
       "4      4      9  e"
      ]
     },
     "execution_count": 43,
     "metadata": {},
     "output_type": "execute_result"
    }
   ],
   "source": [
    "df.replace({\"A\":0, \"B\":5},10000)"
   ]
  },
  {
   "cell_type": "code",
   "execution_count": 44,
   "id": "1d265551",
   "metadata": {},
   "outputs": [
    {
     "data": {
      "text/html": [
       "<div>\n",
       "<style scoped>\n",
       "    .dataframe tbody tr th:only-of-type {\n",
       "        vertical-align: middle;\n",
       "    }\n",
       "\n",
       "    .dataframe tbody tr th {\n",
       "        vertical-align: top;\n",
       "    }\n",
       "\n",
       "    .dataframe thead th {\n",
       "        text-align: right;\n",
       "    }\n",
       "</style>\n",
       "<table border=\"1\" class=\"dataframe\">\n",
       "  <thead>\n",
       "    <tr style=\"text-align: right;\">\n",
       "      <th></th>\n",
       "      <th>A</th>\n",
       "      <th>B</th>\n",
       "      <th>C</th>\n",
       "    </tr>\n",
       "  </thead>\n",
       "  <tbody>\n",
       "    <tr>\n",
       "      <th>0</th>\n",
       "      <td>100</td>\n",
       "      <td>5</td>\n",
       "      <td>a</td>\n",
       "    </tr>\n",
       "    <tr>\n",
       "      <th>1</th>\n",
       "      <td>1</td>\n",
       "      <td>6</td>\n",
       "      <td>b</td>\n",
       "    </tr>\n",
       "    <tr>\n",
       "      <th>2</th>\n",
       "      <td>2</td>\n",
       "      <td>7</td>\n",
       "      <td>c</td>\n",
       "    </tr>\n",
       "    <tr>\n",
       "      <th>3</th>\n",
       "      <td>3</td>\n",
       "      <td>8</td>\n",
       "      <td>d</td>\n",
       "    </tr>\n",
       "    <tr>\n",
       "      <th>4</th>\n",
       "      <td>1000</td>\n",
       "      <td>9</td>\n",
       "      <td>e</td>\n",
       "    </tr>\n",
       "  </tbody>\n",
       "</table>\n",
       "</div>"
      ],
      "text/plain": [
       "      A  B  C\n",
       "0   100  5  a\n",
       "1     1  6  b\n",
       "2     2  7  c\n",
       "3     3  8  d\n",
       "4  1000  9  e"
      ]
     },
     "execution_count": 44,
     "metadata": {},
     "output_type": "execute_result"
    }
   ],
   "source": [
    "df.replace({\"A\":{0:100, 4:1000}})"
   ]
  },
  {
   "cell_type": "code",
   "execution_count": 45,
   "id": "0529cb78",
   "metadata": {},
   "outputs": [],
   "source": [
    "import numpy as np\n",
    "from sklearn.preprocessing import LabelEncoder, OrdinalEncoder, OneHotEncoder"
   ]
  },
  {
   "cell_type": "code",
   "execution_count": 46,
   "id": "bc58d6f9",
   "metadata": {},
   "outputs": [
    {
     "data": {
      "text/html": [
       "<div>\n",
       "<style scoped>\n",
       "    .dataframe tbody tr th:only-of-type {\n",
       "        vertical-align: middle;\n",
       "    }\n",
       "\n",
       "    .dataframe tbody tr th {\n",
       "        vertical-align: top;\n",
       "    }\n",
       "\n",
       "    .dataframe thead th {\n",
       "        text-align: right;\n",
       "    }\n",
       "</style>\n",
       "<table border=\"1\" class=\"dataframe\">\n",
       "  <thead>\n",
       "    <tr style=\"text-align: right;\">\n",
       "      <th></th>\n",
       "      <th>a</th>\n",
       "      <th>b</th>\n",
       "    </tr>\n",
       "  </thead>\n",
       "  <tbody>\n",
       "    <tr>\n",
       "      <th>0</th>\n",
       "      <td>88</td>\n",
       "      <td>340</td>\n",
       "    </tr>\n",
       "    <tr>\n",
       "      <th>1</th>\n",
       "      <td>49</td>\n",
       "      <td>448</td>\n",
       "    </tr>\n",
       "    <tr>\n",
       "      <th>2</th>\n",
       "      <td>31</td>\n",
       "      <td>151</td>\n",
       "    </tr>\n",
       "    <tr>\n",
       "      <th>3</th>\n",
       "      <td>56</td>\n",
       "      <td>128</td>\n",
       "    </tr>\n",
       "    <tr>\n",
       "      <th>4</th>\n",
       "      <td>17</td>\n",
       "      <td>176</td>\n",
       "    </tr>\n",
       "    <tr>\n",
       "      <th>5</th>\n",
       "      <td>22</td>\n",
       "      <td>309</td>\n",
       "    </tr>\n",
       "    <tr>\n",
       "      <th>6</th>\n",
       "      <td>56</td>\n",
       "      <td>369</td>\n",
       "    </tr>\n",
       "    <tr>\n",
       "      <th>7</th>\n",
       "      <td>85</td>\n",
       "      <td>381</td>\n",
       "    </tr>\n",
       "    <tr>\n",
       "      <th>8</th>\n",
       "      <td>65</td>\n",
       "      <td>348</td>\n",
       "    </tr>\n",
       "    <tr>\n",
       "      <th>9</th>\n",
       "      <td>16</td>\n",
       "      <td>329</td>\n",
       "    </tr>\n",
       "  </tbody>\n",
       "</table>\n",
       "</div>"
      ],
      "text/plain": [
       "    a    b\n",
       "0  88  340\n",
       "1  49  448\n",
       "2  31  151\n",
       "3  56  128\n",
       "4  17  176\n",
       "5  22  309\n",
       "6  56  369\n",
       "7  85  381\n",
       "8  65  348\n",
       "9  16  329"
      ]
     },
     "execution_count": 46,
     "metadata": {},
     "output_type": "execute_result"
    }
   ],
   "source": [
    "rng = np.random.default_rng()\n",
    "\n",
    "a_values = rng.integers(low=0, high=100, size=10)\n",
    "b_values = rng.integers(low=100, high=500, size=10)\n",
    "\n",
    "data = pd.DataFrame({\"a\":a_values, \"b\":b_values})\n",
    "data"
   ]
  },
  {
   "cell_type": "code",
   "execution_count": null,
   "id": "7ed46890",
   "metadata": {},
   "outputs": [
    {
     "data": {
      "text/plain": [
       "count    10.000000\n",
       "mean     48.500000\n",
       "std      26.529857\n",
       "min      16.000000\n",
       "25%      24.250000\n",
       "50%      52.500000\n",
       "75%      62.750000\n",
       "max      88.000000\n",
       "Name: a, dtype: float64"
      ]
     },
     "execution_count": 47,
     "metadata": {},
     "output_type": "execute_result"
    }
   ],
   "source": [
    "data.a.describe()"
   ]
  },
  {
   "cell_type": "code",
   "execution_count": 48,
   "id": "d73a3664",
   "metadata": {},
   "outputs": [
    {
     "data": {
      "text/plain": [
       "count     10.000000\n",
       "mean     297.900000\n",
       "std      108.099183\n",
       "min      128.000000\n",
       "25%      209.250000\n",
       "50%      334.500000\n",
       "75%      363.750000\n",
       "max      448.000000\n",
       "Name: b, dtype: float64"
      ]
     },
     "execution_count": 48,
     "metadata": {},
     "output_type": "execute_result"
    }
   ],
   "source": [
    "data.b.describe()"
   ]
  },
  {
   "cell_type": "code",
   "execution_count": 51,
   "id": "967b9d92",
   "metadata": {},
   "outputs": [
    {
     "data": {
      "text/plain": [
       "CategoricalDtype(categories=[[0, 30), [30, 40), [40, 50), [50, 60), [60, 100)], ordered=True, categories_dtype=interval[int64, left])"
      ]
     },
     "execution_count": 51,
     "metadata": {},
     "output_type": "execute_result"
    }
   ],
   "source": [
    "bins = [0,30,40,50,60,100]\n",
    "a_categories = pd.cut(data.a,bins,right=False)\n",
    "a_categories.dtype\n",
    "\n",
    "a_categories = pd.cut(data.a, [0,30,40,50,60,100], right=False)\n",
    "a_categories.dtype"
   ]
  },
  {
   "cell_type": "code",
   "execution_count": 55,
   "id": "0f45e87c",
   "metadata": {},
   "outputs": [
    {
     "data": {
      "text/plain": [
       "a\n",
       "demasiado poco    3\n",
       "demasiado         3\n",
       "mucho             2\n",
       "normal            1\n",
       "poco              1\n",
       "Name: count, dtype: int64"
      ]
     },
     "execution_count": 55,
     "metadata": {},
     "output_type": "execute_result"
    }
   ],
   "source": [
    "group_labels = [\"demasiado poco\", \"poco\", \"normal\", \"mucho\", \"demasiado\"]\n",
    "a_categories_labels = pd.cut(data.a, bins, labels=group_labels)\n",
    "a_categories_labels.value_counts()"
   ]
  },
  {
   "cell_type": "code",
   "execution_count": 57,
   "id": "ab576ce9",
   "metadata": {},
   "outputs": [
    {
     "name": "stdout",
     "output_type": "stream",
     "text": [
      "    a    b  category     size  color\n",
      "0  88  340  elefante  mediano   rojo\n",
      "1  49  448      leon   grande   azul\n",
      "2  31  151     raton  mediano  verde\n",
      "3  56  128     raton   grande   azul\n",
      "4  17  176     perro   grande   rojo\n",
      "5  22  309  elefante  pequeño  verde\n",
      "6  56  369      leon  mediano   rojo\n",
      "7  85  381     tigre  mediano   rojo\n",
      "8  65  348     perro  pequeño  verde\n",
      "9  16  329     tigre  pequeño   azul\n"
     ]
    }
   ],
   "source": [
    "categories=[\"gato\", \"perro\", \"raton\", \"elefante\", \"tigre\", \"leon\"]\n",
    "data[\"category\"]=rng.choice(categories, size=10)\n",
    "data[\"size\"]=rng.choice([\"pequeño\",\"mediano\", \"grande\"], size=10)\n",
    "data[\"color\"]=rng.choice([\"rojo\",\"azul\",\"verde\"], size=10)\n",
    "print(data)"
   ]
  },
  {
   "cell_type": "code",
   "execution_count": 59,
   "id": "cb0edd7d",
   "metadata": {},
   "outputs": [
    {
     "name": "stdout",
     "output_type": "stream",
     "text": [
      "    a    b  category     size  color  category_encoded\n",
      "0  88  340  elefante  mediano   rojo                 0\n",
      "1  49  448      leon   grande   azul                 1\n",
      "2  31  151     raton  mediano  verde                 3\n",
      "3  56  128     raton   grande   azul                 3\n",
      "4  17  176     perro   grande   rojo                 2\n",
      "5  22  309  elefante  pequeño  verde                 0\n",
      "6  56  369      leon  mediano   rojo                 1\n",
      "7  85  381     tigre  mediano   rojo                 4\n",
      "8  65  348     perro  pequeño  verde                 2\n",
      "9  16  329     tigre  pequeño   azul                 4\n"
     ]
    }
   ],
   "source": [
    "label_encoder=LabelEncoder()\n",
    "data[\"category_encoded\"]=label_encoder.fit_transform(data[\"category\"])\n",
    "print(data)"
   ]
  },
  {
   "cell_type": "code",
   "execution_count": 61,
   "id": "132dd06c",
   "metadata": {},
   "outputs": [
    {
     "name": "stdout",
     "output_type": "stream",
     "text": [
      "    a    b  category     size  color  category_encoded  size_encoded\n",
      "0  88  340  elefante  mediano   rojo                 0           1.0\n",
      "1  49  448      leon   grande   azul                 1           2.0\n",
      "2  31  151     raton  mediano  verde                 3           1.0\n",
      "3  56  128     raton   grande   azul                 3           2.0\n",
      "4  17  176     perro   grande   rojo                 2           2.0\n",
      "5  22  309  elefante  pequeño  verde                 0           0.0\n",
      "6  56  369      leon  mediano   rojo                 1           1.0\n",
      "7  85  381     tigre  mediano   rojo                 4           1.0\n",
      "8  65  348     perro  pequeño  verde                 2           0.0\n",
      "9  16  329     tigre  pequeño   azul                 4           0.0\n"
     ]
    }
   ],
   "source": [
    "ordinal_encoder=OrdinalEncoder(categories=[[\"pequeño\", \"mediano\", \"grande\"]])\n",
    "data[\"size_encoded\"]=ordinal_encoder.fit_transform(data[[\"size\"]])\n",
    "print(data)"
   ]
  },
  {
   "cell_type": "code",
   "execution_count": 62,
   "id": "4f7bffcc",
   "metadata": {},
   "outputs": [
    {
     "name": "stdout",
     "output_type": "stream",
     "text": [
      "  category\n",
      "0     gato\n",
      "1    perro\n",
      "2    raton\n",
      "3    perro\n"
     ]
    }
   ],
   "source": [
    "data = pd.DataFrame({\"category\":[\"gato\",\"perro\",\"raton\", \"perro\"]})\n",
    "print(data)"
   ]
  },
  {
   "cell_type": "code",
   "execution_count": 63,
   "id": "54355f48",
   "metadata": {},
   "outputs": [
    {
     "name": "stdout",
     "output_type": "stream",
     "text": [
      "   category_gato  category_perro  category_raton\n",
      "0            1.0             0.0             0.0\n",
      "1            0.0             1.0             0.0\n",
      "2            0.0             0.0             1.0\n",
      "3            0.0             1.0             0.0\n"
     ]
    }
   ],
   "source": [
    "one_hot_encoder = OneHotEncoder(sparse_output=False)\n",
    "one_hot_encoded = one_hot_encoder.fit_transform(data[[\"category\"]])\n",
    "one_hot_encoded_df=pd.DataFrame(one_hot_encoded, columns=one_hot_encoder.get_feature_names_out([\"category\"]))\n",
    "print(one_hot_encoded_df)"
   ]
  },
  {
   "cell_type": "code",
   "execution_count": 64,
   "id": "c1e11012",
   "metadata": {},
   "outputs": [
    {
     "name": "stdout",
     "output_type": "stream",
     "text": [
      "  category  category_gato  category_perro  category_raton\n",
      "0     gato            1.0             0.0             0.0\n",
      "1    perro            0.0             1.0             0.0\n",
      "2    raton            0.0             0.0             1.0\n",
      "3    perro            0.0             1.0             0.0\n"
     ]
    }
   ],
   "source": [
    "data_combined = pd.concat([data,one_hot_encoded_df],axis=1)\n",
    "print(data_combined)"
   ]
  }
 ],
 "metadata": {
  "kernelspec": {
   "display_name": "Python 3",
   "language": "python",
   "name": "python3"
  },
  "language_info": {
   "codemirror_mode": {
    "name": "ipython",
    "version": 3
   },
   "file_extension": ".py",
   "mimetype": "text/x-python",
   "name": "python",
   "nbconvert_exporter": "python",
   "pygments_lexer": "ipython3",
   "version": "3.13.3"
  }
 },
 "nbformat": 4,
 "nbformat_minor": 5
}
